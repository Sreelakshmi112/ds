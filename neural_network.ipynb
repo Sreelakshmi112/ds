{
  "nbformat": 4,
  "nbformat_minor": 0,
  "metadata": {
    "colab": {
      "name": "neural_network.ipynb",
      "provenance": [],
      "authorship_tag": "ABX9TyNmOVyn1M/C+7EBVb4mbmd9",
      "include_colab_link": true
    },
    "kernelspec": {
      "name": "python3",
      "display_name": "Python 3"
    },
    "language_info": {
      "name": "python"
    }
  },
  "cells": [
    {
      "cell_type": "markdown",
      "metadata": {
        "id": "view-in-github",
        "colab_type": "text"
      },
      "source": [
        "<a href=\"https://colab.research.google.com/github/Sreelakshmi112/ds/blob/master/neural_network.ipynb\" target=\"_parent\"><img src=\"https://colab.research.google.com/assets/colab-badge.svg\" alt=\"Open In Colab\"/></a>"
      ]
    },
    {
      "cell_type": "code",
      "execution_count": 1,
      "metadata": {
        "colab": {
          "base_uri": "https://localhost:8080/"
        },
        "id": "U2Lj1LimN1-J",
        "outputId": "d0b37364-ee3c-42d7-bd96-4242e54dab74"
      },
      "outputs": [
        {
          "output_type": "execute_result",
          "data": {
            "text/plain": [
              "MLPClassifier(alpha=1e-05, hidden_layer_sizes=(5, 2), random_state=1,\n",
              "              solver='lbfgs')"
            ]
          },
          "metadata": {},
          "execution_count": 1
        }
      ],
      "source": [
        "from sklearn.neural_network import MLPClassifier\n",
        "import numpy as np\n",
        "X = [[0., 0.], [1., 1.]]\n",
        "y = [0, 1]\n",
        "clf = MLPClassifier(solver='lbfgs', alpha=1e-5, hidden_layer_sizes=(5, 2), random_state=1)\n",
        "clf.fit(X, y)\n",
        "MLPClassifier(alpha=1e-05, hidden_layer_sizes=(5, 2), random_state=1,\n",
        "              solver='lbfgs')"
      ]
    },
    {
      "cell_type": "code",
      "source": [
        "clf.predict([[2., 2.], [-1., -2.]])\n",
        "np.array([1, 0])"
      ],
      "metadata": {
        "colab": {
          "base_uri": "https://localhost:8080/"
        },
        "id": "tp9Fmh3wOCIQ",
        "outputId": "3c3d346e-0200-4260-e84d-f60b416d82eb"
      },
      "execution_count": 2,
      "outputs": [
        {
          "output_type": "execute_result",
          "data": {
            "text/plain": [
              "array([1, 0])"
            ]
          },
          "metadata": {},
          "execution_count": 2
        }
      ]
    },
    {
      "cell_type": "code",
      "source": [
        "X = [[0., 0.], [1., 1.]]\n",
        "y = [[0, 1], [1, 1]]\n",
        "clf = MLPClassifier(solver='lbfgs', alpha=1e-5,hidden_layer_sizes=(15,), random_state=1)\n",
        "\n",
        "clf.fit(X, y)\n",
        "MLPClassifier(alpha=1e-05, hidden_layer_sizes=(15,), random_state=1, solver='lbfgs')\n",
        "clf.predict([[1., 2.]])\n",
        "np.array([[1, 1]])\n",
        "clf.predict([[0., 0.]])\n",
        "np.array([[0, 1]])"
      ],
      "metadata": {
        "id": "xXJr2FX-OGu_",
        "outputId": "ebbe415f-3e5b-4a20-ce5b-cf3f283af7b8",
        "colab": {
          "base_uri": "https://localhost:8080/"
        }
      },
      "execution_count": 3,
      "outputs": [
        {
          "output_type": "execute_result",
          "data": {
            "text/plain": [
              "array([[0, 1]])"
            ]
          },
          "metadata": {},
          "execution_count": 3
        }
      ]
    }
  ]
}