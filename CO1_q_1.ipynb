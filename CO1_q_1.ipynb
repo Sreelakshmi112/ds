{
  "nbformat": 4,
  "nbformat_minor": 0,
  "metadata": {
    "colab": {
      "name": "CO1 q:1.ipynb",
      "provenance": [],
      "authorship_tag": "ABX9TyMuc7u24ZAxpFcByoPdKQJj",
      "include_colab_link": true
    },
    "kernelspec": {
      "name": "python3",
      "display_name": "Python 3"
    },
    "language_info": {
      "name": "python"
    }
  },
  "cells": [
    {
      "cell_type": "markdown",
      "metadata": {
        "id": "view-in-github",
        "colab_type": "text"
      },
      "source": [
        "<a href=\"https://colab.research.google.com/github/Sreelakshmi112/ds/blob/master/CO1_q_1.ipynb\" target=\"_parent\"><img src=\"https://colab.research.google.com/assets/colab-badge.svg\" alt=\"Open In Colab\"/></a>"
      ]
    },
    {
      "cell_type": "code",
      "execution_count": 2,
      "metadata": {
        "colab": {
          "base_uri": "https://localhost:8080/"
        },
        "id": "JDMq3PiZMXzB",
        "outputId": "eabc057b-26e8-4e80-b158-3a6447e3484d"
      },
      "outputs": [
        {
          "output_type": "stream",
          "name": "stdout",
          "text": [
            "Array type  <class 'numpy.ndarray'>\n",
            "Array dimension  2\n",
            "Array shape  (2, 3)\n",
            "Array size  6\n"
          ]
        }
      ],
      "source": [
        "import numpy as np\n",
        "arr=np.array([[1,2,3],[4,5,6]])\n",
        "print(\"Array type \",type(arr))\n",
        "print(\"Array dimension \",arr.ndim)\n",
        "print(\"Array shape \",arr.shape)\n",
        "print(\"Array size \",arr.size)"
      ]
    },
    {
      "cell_type": "code",
      "source": [
        "list=[1,2,3,4,5,6]\n",
        "print(\"List to array \")\n",
        "print(np.asarray(list))"
      ],
      "metadata": {
        "colab": {
          "base_uri": "https://localhost:8080/"
        },
        "id": "a1V64RNSMowd",
        "outputId": "08154d48-8c4c-4fe7-f6b8-55eeaca29e8a"
      },
      "execution_count": 3,
      "outputs": [
        {
          "output_type": "stream",
          "name": "stdout",
          "text": [
            "List to array \n",
            "[1 2 3 4 5 6]\n"
          ]
        }
      ]
    },
    {
      "cell_type": "code",
      "source": [
        "l=[1,2,3]\n",
        "arr=np.array(l)\n",
        "print(\"One dimensional array \",arr)\n",
        "print(\"Dimension \",arr.ndim)"
      ],
      "metadata": {
        "colab": {
          "base_uri": "https://localhost:8080/"
        },
        "id": "kzNstopKMqGx",
        "outputId": "6c9b8596-8ac8-449b-c9ab-21175073edce"
      },
      "execution_count": 4,
      "outputs": [
        {
          "output_type": "stream",
          "name": "stdout",
          "text": [
            "One dimensional array  [1 2 3]\n",
            "Dimension  1\n"
          ]
        }
      ]
    },
    {
      "cell_type": "code",
      "source": [
        "arr=np.array([[1,2,3],[4,5,6]])\n",
        "print(\"Two dimensional array \",arr)\n",
        "print(\"Dimension \",arr.ndim)"
      ],
      "metadata": {
        "colab": {
          "base_uri": "https://localhost:8080/"
        },
        "id": "JMbXYTpMMzDk",
        "outputId": "2c180f82-5ac3-4be5-f386-9c9d1659a979"
      },
      "execution_count": 5,
      "outputs": [
        {
          "output_type": "stream",
          "name": "stdout",
          "text": [
            "Two dimensional array  [[1 2 3]\n",
            " [4 5 6]]\n",
            "Dimension  2\n"
          ]
        }
      ]
    },
    {
      "cell_type": "code",
      "source": [
        "arr=np.array([[1,2,3],[9,4,5]])\n",
        "print(\"Shape \",arr.shape)\n",
        "print(arr)\n",
        "arr.shape=3,2\n",
        "print(arr)"
      ],
      "metadata": {
        "colab": {
          "base_uri": "https://localhost:8080/"
        },
        "id": "8lRBgRumM47-",
        "outputId": "e63c3b40-f352-46d6-d8b9-d4b80fbb41c8"
      },
      "execution_count": 6,
      "outputs": [
        {
          "output_type": "stream",
          "name": "stdout",
          "text": [
            "Shape  (2, 3)\n",
            "[[1 2 3]\n",
            " [9 4 5]]\n",
            "[[1 2]\n",
            " [3 9]\n",
            " [4 5]]\n"
          ]
        }
      ]
    },
    {
      "cell_type": "code",
      "source": [
        "a=np.zeros((3,3),dtype=int)\n",
        "print(a)"
      ],
      "metadata": {
        "colab": {
          "base_uri": "https://localhost:8080/"
        },
        "id": "3KsJQS99M8vW",
        "outputId": "1cad2bd5-d88b-4378-ea8f-671243c86e97"
      },
      "execution_count": 7,
      "outputs": [
        {
          "output_type": "stream",
          "name": "stdout",
          "text": [
            "[[0 0 0]\n",
            " [0 0 0]\n",
            " [0 0 0]]\n"
          ]
        }
      ]
    },
    {
      "cell_type": "code",
      "source": [
        "a=np.ones((3,2),dtype=int)\n",
        "print(a)"
      ],
      "metadata": {
        "colab": {
          "base_uri": "https://localhost:8080/"
        },
        "id": "bGMIykZ1NAbB",
        "outputId": "e8d24bb3-4642-442a-8b50-6437af675ba5"
      },
      "execution_count": 8,
      "outputs": [
        {
          "output_type": "stream",
          "name": "stdout",
          "text": [
            "[[1 1]\n",
            " [1 1]\n",
            " [1 1]]\n"
          ]
        }
      ]
    },
    {
      "cell_type": "code",
      "source": [
        "a=np.eye(3,dtype=int)\n",
        "print(a)"
      ],
      "metadata": {
        "colab": {
          "base_uri": "https://localhost:8080/"
        },
        "id": "BAiFBG20NHYq",
        "outputId": "ee54d36b-895a-4836-840c-37a3ce54a3b9"
      },
      "execution_count": 9,
      "outputs": [
        {
          "output_type": "stream",
          "name": "stdout",
          "text": [
            "[[1 0 0]\n",
            " [0 1 0]\n",
            " [0 0 1]]\n"
          ]
        }
      ]
    },
    {
      "cell_type": "code",
      "source": [
        "arr1=([[1,2,3],[4,5,6]])\n",
        "arr2=([[4,5,6],[9,7,8]])\n"
      ],
      "metadata": {
        "id": "gHTPYhcYNMne"
      },
      "execution_count": 10,
      "outputs": []
    },
    {
      "cell_type": "code",
      "source": [
        "a=([[6,7,8],[2,3,1]])\n",
        "b=([[8,7,6],[6,3,2]])\n",
        "print(\"A-B =\",np.subtract(a,b))\n",
        "print(\"B-A =\",np.subtract(b,a))\n",
        "print(\"A**2 =\",np.power(a,2))\n",
        "print(\"A*B =\",np.multiply(a,b))\n",
        "print(\"A/B =\",np.divide(a,b))"
      ],
      "metadata": {
        "colab": {
          "base_uri": "https://localhost:8080/"
        },
        "id": "DvAyWfFKNSMx",
        "outputId": "71e5c785-ee4e-459f-8099-ad992f8f10f2"
      },
      "execution_count": 11,
      "outputs": [
        {
          "output_type": "stream",
          "name": "stdout",
          "text": [
            "A-B = [[-2  0  2]\n",
            " [-4  0 -1]]\n",
            "B-A = [[ 2  0 -2]\n",
            " [ 4  0  1]]\n",
            "A**2 = [[36 49 64]\n",
            " [ 4  9  1]]\n",
            "A*B = [[48 49 48]\n",
            " [12  9  2]]\n",
            "A/B = [[0.75       1.         1.33333333]\n",
            " [0.33333333 1.         0.5       ]]\n"
          ]
        }
      ]
    },
    {
      "cell_type": "code",
      "source": [
        "print(\"A =\",np.linspace(1,10,num=5,endpoint=True,retstep=True))\n",
        "print(\"B =\",np.linspace(1,10,num=5,endpoint=True,retstep=True,dtype=int))\n",
        "print(\"c =\",np.linspace(1,10,num=5,endpoint=True))"
      ],
      "metadata": {
        "colab": {
          "base_uri": "https://localhost:8080/"
        },
        "id": "GHsnMDeDNWh7",
        "outputId": "69de5864-87ec-43e7-c453-0aa39102036c"
      },
      "execution_count": 12,
      "outputs": [
        {
          "output_type": "stream",
          "name": "stdout",
          "text": [
            "A = (array([ 1.  ,  3.25,  5.5 ,  7.75, 10.  ]), 2.25)\n",
            "B = (array([ 1,  3,  5,  7, 10]), 2.25)\n",
            "c = [ 1.    3.25  5.5   7.75 10.  ]\n"
          ]
        }
      ]
    },
    {
      "cell_type": "code",
      "source": [
        "a=np.array([3,4,5,6,1,6])\n",
        "print(\"Original array= \",a)\n",
        "b=a.reshape(2,3)\n",
        "print(\"Reshaped array =\",b)"
      ],
      "metadata": {
        "colab": {
          "base_uri": "https://localhost:8080/"
        },
        "id": "IXDbFpYjNbnM",
        "outputId": "8f79df54-5e8d-457a-f8e1-e40770300e70"
      },
      "execution_count": 13,
      "outputs": [
        {
          "output_type": "stream",
          "name": "stdout",
          "text": [
            "Original array=  [3 4 5 6 1 6]\n",
            "Reshaped array = [[3 4 5]\n",
            " [6 1 6]]\n"
          ]
        }
      ]
    },
    {
      "cell_type": "code",
      "source": [
        "a=np.array([[1,2,3],[5,6,7]])\n",
        "b=np.resize(a,(3,2))\n",
        "print(\"Resized array =\",b)\n"
      ],
      "metadata": {
        "colab": {
          "base_uri": "https://localhost:8080/"
        },
        "id": "j8n2XQr8NjFo",
        "outputId": "2aa3ce9d-38c6-4b21-e4ff-9d1992701c68"
      },
      "execution_count": 14,
      "outputs": [
        {
          "output_type": "stream",
          "name": "stdout",
          "text": [
            "Resized array = [[1 2]\n",
            " [3 5]\n",
            " [6 7]]\n"
          ]
        }
      ]
    }
  ]
}