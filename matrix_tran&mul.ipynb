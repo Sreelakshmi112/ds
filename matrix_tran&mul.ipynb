{
  "nbformat": 4,
  "nbformat_minor": 0,
  "metadata": {
    "colab": {
      "name": "matrix tran&mul.ipynb",
      "provenance": [],
      "authorship_tag": "ABX9TyOTnsSfcs0dQmmSTeyKZsWF",
      "include_colab_link": true
    },
    "kernelspec": {
      "name": "python3",
      "display_name": "Python 3"
    },
    "language_info": {
      "name": "python"
    }
  },
  "cells": [
    {
      "cell_type": "markdown",
      "metadata": {
        "id": "view-in-github",
        "colab_type": "text"
      },
      "source": [
        "<a href=\"https://colab.research.google.com/github/Sreelakshmi112/ds/blob/master/matrix_tran%26mul.ipynb\" target=\"_parent\"><img src=\"https://colab.research.google.com/assets/colab-badge.svg\" alt=\"Open In Colab\"/></a>"
      ]
    },
    {
      "cell_type": "code",
      "execution_count": 1,
      "metadata": {
        "colab": {
          "base_uri": "https://localhost:8080/"
        },
        "id": "jtZWKzZLTOq5",
        "outputId": "96b902f2-3ab7-4d48-e829-04c19d5fe36a"
      },
      "outputs": [
        {
          "output_type": "stream",
          "name": "stdout",
          "text": [
            "The element wise multiplication of matrix is : \n",
            "[[ 7 16]\n",
            " [36 50]]\n",
            "The product of matrices is : \n",
            "[[25 28]\n",
            " [73 82]]\n",
            "Given matrix:\n",
            "[[1 2]\n",
            " [4 5]]\n",
            "The transpose of given matrix is : \n",
            "[[1 4]\n",
            " [2 5]]\n",
            "The trace of given matrix is : \n",
            "6\n",
            "2\n",
            "-2.9999999999999996\n",
            "[[-1.66666667  0.66666667]\n",
            " [ 1.33333333 -0.33333333]]\n",
            "(array([-0.46410162,  6.46410162]), array([[-0.80689822, -0.34372377],\n",
            "       [ 0.59069049, -0.9390708 ]]))\n"
          ]
        }
      ],
      "source": [
        "import numpy\n",
        "x = numpy.array([[1, 2], [4, 5]])\n",
        "\n",
        "y = numpy.array([[7, 8], [9, 10]])\n",
        "\n",
        "print (\"The element wise multiplication of matrix is : \")\n",
        "\n",
        "print (numpy.multiply(x,y))\n",
        "\n",
        "print (\"The product of matrices is : \")\n",
        "\n",
        "print (numpy.dot(x,y))\n",
        "\n",
        "print(\"Given matrix:\")\n",
        "\n",
        "print(x)\n",
        "\n",
        "print (\"The transpose of given matrix is : \")\n",
        "\n",
        "print (x.T)\n",
        "\n",
        "print (\"The trace of given matrix is : \")\n",
        "\n",
        "print (x.trace())\n",
        "\n",
        "print(numpy.linalg.matrix_rank(x))\n",
        "\n",
        "print(numpy.linalg.det(x))\n",
        "\n",
        "print(numpy.linalg.inv(x))\n",
        "print(numpy.linalg.eig(x))"
      ]
    }
  ]
}