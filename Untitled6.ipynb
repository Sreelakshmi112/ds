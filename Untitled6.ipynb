{
  "nbformat": 4,
  "nbformat_minor": 0,
  "metadata": {
    "colab": {
      "name": "Untitled6.ipynb",
      "provenance": [],
      "authorship_tag": "ABX9TyOOP6IRiv2IdSNzgNkzHQXY",
      "include_colab_link": true
    },
    "kernelspec": {
      "name": "python3",
      "display_name": "Python 3"
    },
    "language_info": {
      "name": "python"
    }
  },
  "cells": [
    {
      "cell_type": "markdown",
      "metadata": {
        "id": "view-in-github",
        "colab_type": "text"
      },
      "source": [
        "<a href=\"https://colab.research.google.com/github/Sreelakshmi112/ds/blob/master/Untitled6.ipynb\" target=\"_parent\"><img src=\"https://colab.research.google.com/assets/colab-badge.svg\" alt=\"Open In Colab\"/></a>"
      ]
    },
    {
      "cell_type": "code",
      "execution_count": null,
      "metadata": {
        "id": "ZXBvCXtPgspp",
        "colab": {
          "base_uri": "https://localhost:8080/"
        },
        "outputId": "6655ba34-0a44-4eee-daff-09c845472a56"
      },
      "outputs": [
        {
          "output_type": "stream",
          "name": "stdout",
          "text": [
            "2.23606797749979\n",
            "4.242640687119285\n",
            "3.605551275463989\n",
            "1.4142135623730951\n"
          ]
        }
      ],
      "source": [
        "import pandas as pd\n",
        "import numpy as np\n",
        "from math import sqrt\n",
        "\n",
        "# calculate euclidean distance\n",
        "def euclidean_distance(row1,row2):\n",
        "  distance=0.0\n",
        "  for i in range(len(row1)-1):\n",
        "    distance+=(row1[i]-row2[i])**2\n",
        "  return sqrt(distance) \n",
        "dataset1=[[6,4,0]]  \n",
        "dataset=[[8,5,1],[3,7,0],[3,6,1],[7,3,2]]\n",
        "row0=dataset1[0]\n",
        "for row in dataset:\n",
        "  distance=euclidean_distance(row0,row)\n",
        "  print(distance)\n",
        "\n"
      ]
    },
    {
      "cell_type": "code",
      "source": [
        "# locate similar neighbor\n",
        "def get_neighbors(train, test_row, num_neighbors):\n",
        "  distances = list()\n",
        "  for train_row in train:\n",
        "    dist = euclidean_distance(test_row, train_row)\n",
        "    distances.append((train_row, dist))\n",
        "  distances.sort(key=lambda tup: tup[1])\n",
        "  neighbors = list()\n",
        "  for i in range(num_neighbors):\n",
        "    neighbors.append(distances[i][0])\n",
        "  return neighbors\n",
        "\n",
        "\n"
      ],
      "metadata": {
        "id": "kNdlgqpxnHUU"
      },
      "execution_count": null,
      "outputs": []
    },
    {
      "cell_type": "code",
      "source": [
        "\n",
        "  # test distance function\n",
        "\n",
        "neighbors = get_neighbors(dataset, dataset[0], 2)\n",
        "for neighbor in neighbors:\n",
        "  print(neighbor)\n",
        "\n",
        "\n",
        "\n"
      ],
      "metadata": {
        "colab": {
          "base_uri": "https://localhost:8080/"
        },
        "id": "sJpvwL8ns6Bm",
        "outputId": "5de25b32-d900-4c66-c86f-44d0f0f26cd4"
      },
      "execution_count": null,
      "outputs": [
        {
          "output_type": "stream",
          "name": "stdout",
          "text": [
            "[8, 5, 1]\n",
            "[7, 3, 2]\n"
          ]
        }
      ]
    },
    {
      "cell_type": "code",
      "source": [
        "# classification \n",
        "def predict_classification(train, test_row, num_neighbors):\n",
        "  neighbors = get_neighbors(train, test_row, num_neighbors)\n",
        "  output_values = [row[-1] for row in neighbors]\n",
        "  prediction = max(set(output_values), key=output_values.count)\n",
        "  return prediction\n",
        " \n",
        "\n",
        "\n",
        "# prediction\n",
        "prediction = predict_classification(dataset, dataset[0], 2)\n",
        "print('Expected : %d \\nGot : %d' % (dataset1[0][-1], prediction))\n",
        "\n",
        "\n"
      ],
      "metadata": {
        "colab": {
          "base_uri": "https://localhost:8080/"
        },
        "id": "1JtUjNLNOjb5",
        "outputId": "ecdb7a24-8f91-4258-e79d-dd01b76c4481"
      },
      "execution_count": null,
      "outputs": [
        {
          "output_type": "stream",
          "name": "stdout",
          "text": [
            "Expected : 0 \n",
            "Got : 1\n"
          ]
        }
      ]
    }
  ]
}